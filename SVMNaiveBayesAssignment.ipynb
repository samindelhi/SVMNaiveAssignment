{
  "nbformat": 4,
  "nbformat_minor": 0,
  "metadata": {
    "colab": {
      "provenance": [],
      "toc_visible": true
    },
    "kernelspec": {
      "name": "python3",
      "display_name": "Python 3"
    },
    "language_info": {
      "name": "python"
    }
  },
  "cells": [
    {
      "cell_type": "markdown",
      "source": [
        "# SVM & Naive Bayes Assignment Questions\n",
        "----"
      ],
      "metadata": {
        "id": "ebxitmi4HdEe"
      }
    },
    {
      "cell_type": "markdown",
      "source": [
        "## Theoretical  Questions\n",
        "\n",
        " 1. What is a Support Vector Machine (SVM)\n",
        "    - A Support Vector Machine is a supervised machine learning algorithm used for classification and regression tasks. It works by finding the optimal hyperplane that separates data points of different classes with the maximum margin.\n",
        "\n",
        " 2. What is the difference between Hard Margin and Soft Margin SVM\n",
        "    - **Hard Margin** SVM assumes that the data is linearly separable and tries to find a hyperplane that perfectly separates the classes without any misclassification.\n",
        "    - **Soft Margin** SVM allows for some misclassification (Softens) and introduces a penalty term to handle non-linearly separable data.\n",
        "\n",
        " 3. What is the mathematical intuition behind SVM\n",
        "  - The mathematical intuition behind Support Vector Machines (SVM) revolves around finding the **optimal decision boundary**—called a **hyperplane**—that best separates data points of different classes. Here's a breakdown of the key ideas:\n",
        "      - Maximize the Margin: SVM seeks the hyperplane that maximizes the distance (margin) between itself and the nearest data points from each class—these are the support vectors.\n",
        "      - Robustness: A larger margin implies better generalization to unseen data, reducing the risk of overfitting\n",
        "  - Geometric Perspective\n",
        "      - In a 2D space, the hyperplane is a line; in 3D, it's a plane; in higher dimensions, it's a hyperplane.\n",
        "      - The goal is to find the hyperplane that separates the classes with the widest possible gap.\n",
        "\n",
        "  - SVM solves the following convex optimization problem:\n",
        "  - Objective:\n",
        "      - Minimize:\n",
        "      ```\\frac{1}{2} \\|\\mathbf{w}\\|^2```\n",
        "    - subject to\n",
        "      - ```y_i(\\mathbf{w}^\\top \\mathbf{x}_i + b) \\geq 1 \\quad \\text{for all } i```\n",
        "    - Where:\n",
        "    - \\mathbf{w} is the weight vector (defines orientation of the hyperplane)\n",
        "    - b is the bias term (defines position)\n",
        "    - \\mathbf{x}_i are the input vectors\n",
        "    - y_i \\in \\{-1, +1\\} are the class labels\n",
        "\n",
        " 4. What is the role of Lagrange Multipliers in SVM\n",
        "  - Lagrange Multipliers are used to solve the constrained optimization problem in SVM. They help convert the primal problem into a dual problem, which is easier to solve and allows the use of kernel functions for non-linear decision boundaries.\n",
        "\n",
        " 5. What are Support Vectors in SVM\n",
        "  - Support Vectors are the data points that lie closest to the decision boundary. They are critical in defining the position and orientation of the hyperplane.\n",
        "\n",
        " 6. What is a Support Vector Classifier (SVC)\n",
        "  - A Support Vector Classifier is an implementation of SVM used for classification tasks. It finds the optimal hyperplane that separates different classes in the feature space.\n",
        "\n",
        " 7. What is a Support Vector Regressor (SVR)\n",
        "  - Support Vector Regressor is an SVM variant used for regression tasks. It tries to fit the best line within a threshold margin and penalizes predictions that fall outside this margin.\n",
        "\n",
        " 8. What is the Kernel Trick in SVM\n",
        "  - The Kernel Trick allows SVM to operate in a high-dimensional space without explicitly computing the coordinates. It uses kernel functions to compute the inner products between data points in the transformed space.\n",
        "\n",
        " 9. Compare Linear Kernel, Polynomial Kernel, and RBF Kernel\n",
        "\n",
        "|Type|Traits|\n",
        "|:---:|:---:|\n",
        "|Linear Kernel|Suitable for linearly separable data, such as classifying emails based on word frequency.|\n",
        "|Polynomial Kernel|Captures interactions between features using polynomial functions, useful for image recognition tasks.|\n",
        "|RBF Kernel|Maps data into infinite-dimensional space and is effective for non-linear problems, like handwriting recognition|\n",
        "\n",
        " 10. What is the effect of the C parameter in SVM\n",
        "  - The C parameter controls the trade-off between achieving a low error on the training data and maintaining a large margin. A small C allows for a wider margin with more misclassifications, while a large C tries to classify all training examples correctly. For example, in noisy datasets, a smaller C can help prevent overfitting.\n",
        "\n",
        " 11. What is the role of the Gamma parameter in RBF Kernel SVM\n",
        "  - Gamma defines how far the influence of a single training example reaches. A low gamma means far reach, and a high gamma means close reach. It affects the shape of the decision boundary. For instance, a high gamma can lead to overfitting in a dataset with many features.\n",
        "\n",
        " 12. What is the Naïve Bayes classifier, and why is it called \"Naïve\"\n",
        "  - Naïve Bayes is a probabilistic classifier based on Bayes' Theorem. It is called \"Naïve\" because it assumes that the features are conditionally independent given the class label. For example, in spam detection, it assumes that the presence of one word is independent of another.\n",
        "\n",
        " 13. What is Bayes' Theorem\n",
        "  - Bayes’ Theorem describes the probability of an event based on prior knowledge of conditions related to the event.\n",
        "\n",
        "    ```Formula: P(A|B) = [P(B|A) * P(A)] / P(B)```\n",
        "\n",
        "    For example, it can be used to update the probability of a disease given a positive test result.\n",
        "\n",
        " 14. Explain the differences between Gaussian Naïve Bayes, Multinomial Naïve Bayes, and Bernoulli Naïve Bayes\n",
        "  - Gaussian Naïve Bayes: Assumes features follow a normal distribution, suitable for continuous data like sensor readings.\n",
        "\n",
        "  - Multinomial Naïve Bayes: Suitable for discrete count data like word counts in text classification.\n",
        "\n",
        "  - Bernoulli Naïve Bayes: Works with binary/boolean features, such as presence or absence of words in a document.\n",
        "\n",
        " 15. When should you use Gaussian Naïve Bayes over other variants\n",
        "  - Use Gaussian Naïve Bayes when the features are continuous and approximately follow a normal distribution.\n",
        "    - For example, it is ideal for classifying medical data like blood pressure and cholesterol levels.\n",
        "\n",
        " 16. What are the key assumptions made by Naïve Bayes\n",
        "  - Features are conditionally independent given the class label.\n",
        "  - All features contribute equally and independently to the outcome.\n",
        "  \n",
        "  These assumptions simplify computation but may not hold in real-world data.\n",
        "\n",
        " 17. What are the advantages and disadvantages of Naïve Bayes\n",
        "  - Advantages:\n",
        "      - Simple and fast\n",
        "      - Works well with high-dimensional data\n",
        "      - Effective for text classification, such as spam filtering\n",
        "  - Disadvantages:\n",
        "      - Assumes feature independence\n",
        "      - May not perform well with correlated features, like pixels in an image\n",
        "\n",
        " 18. Why is Naïve Bayes a good choice for text classification\n",
        "  - Naïve Bayes is effective for text classification because it handles high-dimensional data well, is computationally efficient, and performs well with sparse data.\n",
        "    - For example, it is widely used in email spam detection and sentiment analysis.\n",
        "\n",
        " 19. Compare SVM and Naïve Bayes for classification tasks\n",
        "  - **SVM**: Effective for complex decision boundaries, robust to overfitting, but computationally intensive. Suitable for image classification.\n",
        "  - **Naïve Bayes**: Fast and simple, good for text data, but may struggle with correlated features. Ideal for document categorization.\n",
        "\n",
        " 20. How does Laplace Smoothing help in Naïve Bayes?\n",
        "  - Laplace Smoothing helps handle zero-frequency problems by adding a small constant (usually 1) to the count of each feature, ensuring that no probability is zero. This is particularly important when a feature in the test data was not observed in the training data, which would otherwise result in a zero probability and invalidate the entire prediction.\n",
        "\n",
        "  - For example, consider a spam classifier trained on emails that never contained the word \"lottery.\" If a new email contains \"lottery,\" the probability of spam would be zero without smoothing. Laplace Smoothing adjusts the probability to a small non-zero value, allowing the classifier to still make a reasonable prediction.\n",
        "\n",
        "\n"
      ],
      "metadata": {
        "id": "aRyImzwWRKjf"
      }
    },
    {
      "cell_type": "markdown",
      "source": [
        "---\n",
        "---"
      ],
      "metadata": {
        "id": "gcPbvwtlR2tB"
      }
    },
    {
      "cell_type": "markdown",
      "source": [
        "## Practical Questions\n",
        "\n"
      ],
      "metadata": {
        "id": "_cWd7zMlR_XF"
      }
    },
    {
      "cell_type": "code",
      "source": [
        "# Imports of Libraries.\n",
        "import pandas as pd\n",
        "import numpy as np\n",
        "import matplotlib.pyplot as plt\n",
        "import seaborn as sns\n",
        "import warnings\n",
        "from sklearn.model_selection import train_test_split\n",
        "from sklearn.svm import SVC, SVR\n",
        "from sklearn.metrics import accuracy_score, precision_score, recall_score, f1_score, precision_recall_curve, classification_report, confusion_matrix, log_loss\n",
        "\n",
        "\n",
        "warnings.filterwarnings('ignore')"
      ],
      "metadata": {
        "id": "7jZdyVWaVv4T"
      },
      "execution_count": 2,
      "outputs": []
    },
    {
      "cell_type": "code",
      "source": [
        "# 21.  Write a Python program to train an SVM Classifier on the Iris dataset and evaluate accuracy\n",
        "from sklearn.datasets import load_iris\n",
        "\n",
        "X,y = load_iris(return_X_y=True)\n",
        "\n",
        "# Split into training and test sets (75% train, 25% test)\n",
        "\n",
        "X_train, X_test, y_train, y_test = train_test_split(X,y, test_size=0.25, random_state=42)\n",
        "\n",
        "# Train an SVM classifier\n",
        "svm_model = SVC(kernel='linear')\n",
        "svm_model.fit(X_train, y_train)\n",
        "\n",
        "# Predict on test data\n",
        "y_pred = svm_model.predict(X_test)\n",
        "\n",
        "# Evaluate accuracy\n",
        "accuracy = accuracy_score(y_test, y_pred)\n",
        "print(f\"Accuracy of SVM classifier on Iris dataset: {accuracy:.2f}\")\n",
        "\n",
        "\n"
      ],
      "metadata": {
        "colab": {
          "base_uri": "https://localhost:8080/"
        },
        "id": "qW6FfwVlS14L",
        "outputId": "13e5b0e1-de32-4c82-aacd-52875d28ccfe"
      },
      "execution_count": 3,
      "outputs": [
        {
          "output_type": "stream",
          "name": "stdout",
          "text": [
            "Accuracy of SVM classifier on Iris dataset: 1.00\n"
          ]
        }
      ]
    },
    {
      "cell_type": "code",
      "source": [
        "# 22. Write a Python program to train two SVM classifiers with Linear and RBF kernels on the Wine dataset, then compare their accuracies\n",
        "from sklearn.datasets import load_wine\n",
        "\n",
        "X,y = load_wine(return_X_y=True)\n",
        "\n",
        "# Split into training and test sets (75% train, 25% test)\n",
        "\n",
        "X_train, X_test, y_train, y_test = train_test_split(X,y, test_size=0.25, random_state=42)\n",
        "\n",
        "# Train an SVM classifier using linear\n",
        "svm_model_lin = SVC(kernel='linear')\n",
        "svm_model_lin.fit(X_train, y_train)\n",
        "\n",
        "# Predict on test data with linear kernel\n",
        "y_pred_lin = svm_model_lin.predict(X_test)\n",
        "\n",
        "# Train an SVM classifier using RBF\n",
        "svm_model_rbf = SVC(kernel='rbf')\n",
        "svm_model_rbf.fit(X_train, y_train)\n",
        "\n",
        "# Predict on test data with rbf kernel\n",
        "y_pred_rbf = svm_model_rbf.predict(X_test)\n",
        "\n",
        "\n",
        "# Evaluate accuracy\n",
        "accuracy_lin = accuracy_score(y_test, y_pred_lin)\n",
        "print(f\"Accuracy of SVM classifier with Linear Kernel on Wine Dataset: {accuracy_lin:.2f}\")\n",
        "\n",
        "accuracy_rbf = accuracy_score(y_test, y_pred_rbf)\n",
        "print(f\"Accuracy of SVM classifier with RBF Kernel on Wine Dataset: {accuracy_rbf:.2f}\")"
      ],
      "metadata": {
        "colab": {
          "base_uri": "https://localhost:8080/"
        },
        "id": "CZnm67rjS8ad",
        "outputId": "cae6771a-9b30-41d9-bdec-209e555abdd6"
      },
      "execution_count": 4,
      "outputs": [
        {
          "output_type": "stream",
          "name": "stdout",
          "text": [
            "Accuracy of SVM classifier with Linear Kernel on Wine Dataset: 0.98\n",
            "Accuracy of SVM classifier with RBF Kernel on Wine Dataset: 0.71\n"
          ]
        }
      ]
    },
    {
      "cell_type": "code",
      "source": [
        "# 23. Write a Python program to train an SVM Regressor (SVR) on a housing dataset and evaluate it using Mean Squared Error (MSE)\n",
        "from sklearn.datasets import fetch_california_housing\n",
        "from sklearn.metrics import mean_squared_error\n",
        "from sklearn.preprocessing import StandardScaler\n",
        "\n",
        "# Load the California Housing dataset\n",
        "housing = fetch_california_housing()\n",
        "X = housing.data\n",
        "y = housing.target\n",
        "\n",
        "# Feature scaling (important for SVR)\n",
        "scaler_X = StandardScaler()\n",
        "scaler_y = StandardScaler()\n",
        "\n",
        "X_scaled = scaler_X.fit_transform(X)\n",
        "y_scaled = scaler_y.fit_transform(y.reshape(-1, 1)).ravel()\n",
        "\n",
        "# Split into training and test sets\n",
        "X_train, X_test, y_train, y_test = train_test_split(X_scaled, y_scaled, test_size=0.2, random_state=42)\n",
        "\n",
        "# Train SVR model\n",
        "svr_model = SVR(kernel='rbf')  # we can also try 'linear' or 'poly'\n",
        "svr_model.fit(X_train, y_train)\n",
        "\n",
        "# Predict and evaluate\n",
        "y_pred = svr_model.predict(X_test)\n",
        "mse = mean_squared_error(y_test, y_pred)\n",
        "print(f\"Mean Squared Error (MSE) of SVR on housing dataset: {mse:.4f}\")\n"
      ],
      "metadata": {
        "colab": {
          "base_uri": "https://localhost:8080/"
        },
        "id": "NsSIppTaTC3r",
        "outputId": "2d95fb11-e6cc-44da-9d10-3127ae26ca37"
      },
      "execution_count": 5,
      "outputs": [
        {
          "output_type": "stream",
          "name": "stdout",
          "text": [
            "Mean Squared Error (MSE) of SVR on housing dataset: 0.2644\n"
          ]
        }
      ]
    },
    {
      "cell_type": "code",
      "source": [
        "# 24. Write a Python program to train an SVM Classifier with a Polynomial Kernel and visualize the decision boundary.\n",
        "from sklearn.datasets import make_moons\n",
        "from sklearn.svm import SVC\n",
        "from sklearn.preprocessing import StandardScaler\n",
        "\n",
        "# Generate synthetic 2D dataset\n",
        "X, y = make_moons(n_samples=200, noise=0.2, random_state=42)\n",
        "\n",
        "# Feature scaling\n",
        "scaler = StandardScaler()\n",
        "X_scaled = scaler.fit_transform(X)\n",
        "\n",
        "# Train SVM with polynomial kernel\n",
        "svm_poly = SVC(kernel='poly', degree=3, C=1)\n",
        "svm_poly.fit(X_scaled, y)\n",
        "\n",
        "# Function to plot decision boundary\n",
        "def plot_decision_boundary(model, X, y):\n",
        "    x_min, x_max = X[:, 0].min() - 1, X[:, 0].max() + 1\n",
        "    y_min, y_max = X[:, 1].min() - 1, X[:, 1].max() + 1\n",
        "    xx, yy = np.meshgrid(np.linspace(x_min, x_max, 500),\n",
        "                         np.linspace(y_min, y_max, 500))\n",
        "    Z = model.predict(np.c_[xx.ravel(), yy.ravel()])\n",
        "    Z = Z.reshape(xx.shape)\n",
        "\n",
        "    plt.contourf(xx, yy, Z, alpha=0.3, cmap=plt.cm.coolwarm)\n",
        "    plt.scatter(X[:, 0], X[:, 1], c=y, cmap=plt.cm.coolwarm, edgecolors='k')\n",
        "    plt.title(\"SVM with Polynomial Kernel (degree=3)\")\n",
        "    plt.xlabel(\"Feature 1\")\n",
        "    plt.ylabel(\"Feature 2\")\n",
        "    plt.show()\n",
        "\n",
        "# Visualize\n",
        "plot_decision_boundary(svm_poly, X_scaled, y)"
      ],
      "metadata": {
        "colab": {
          "base_uri": "https://localhost:8080/",
          "height": 472
        },
        "id": "w4GdOKDTTKZc",
        "outputId": "c37f82b6-7370-495d-c8e5-15c13995f85c"
      },
      "execution_count": 14,
      "outputs": [
        {
          "output_type": "display_data",
          "data": {
            "text/plain": [
              "<Figure size 640x480 with 1 Axes>"
            ],
            "image/png": "[encoded data removed]"
          },
          "metadata": {}
        }
      ]
    },
    {
      "cell_type": "code",
      "source": [
        "# 25. Write a Python program to train a Gaussian Naïve Bayes classifier on the Breast Cancer dataset and evaluate accuracy.\n",
        "from sklearn.datasets import load_breast_cancer\n",
        "from sklearn.naive_bayes import GaussianNB\n",
        "\n",
        "# Load the Breast Cancer dataset\n",
        "data = load_breast_cancer()\n",
        "X = data.data\n",
        "y = data.target\n",
        "\n",
        "# Split into training and test sets\n",
        "X_train, X_test, y_train, y_test = train_test_split(X, y, test_size=0.2, random_state=42)\n",
        "\n",
        "# Train Gaussian Naïve Bayes classifier\n",
        "gnb = GaussianNB()\n",
        "gnb.fit(X_train, y_train)\n",
        "\n",
        "# Predict and evaluate\n",
        "y_pred = gnb.predict(X_test)\n",
        "accuracy = accuracy_score(y_test, y_pred)\n",
        "print(f\"Accuracy of Gaussian Naïve Bayes on Breast Cancer dataset: {accuracy:.2f}\")"
      ],
      "metadata": {
        "colab": {
          "base_uri": "https://localhost:8080/"
        },
        "id": "bnOcAJSxTN96",
        "outputId": "2b90d73f-81c0-422f-a0f6-9282cd8fec78"
      },
      "execution_count": 16,
      "outputs": [
        {
          "output_type": "stream",
          "name": "stdout",
          "text": [
            "Accuracy of Gaussian Naïve Bayes on Breast Cancer dataset: 0.97\n"
          ]
        }
      ]
    },
    {
      "cell_type": "code",
      "source": [
        "# 26.  Write a Python program to train a Multinomial Naïve Bayes classifier for text classification using the 20 Newsgroups dataset.\n",
        "from sklearn.datasets import fetch_20newsgroups\n",
        "from sklearn.naive_bayes import MultinomialNB\n",
        "from sklearn.feature_extraction.text import TfidfVectorizer\n",
        "\n",
        "# Load the 20 Newsgroups dataset (subset for speed)\n",
        "categories = ['sci.space', 'rec.sport.baseball', 'comp.graphics', 'talk.politics.mideast']\n",
        "newsgroups = fetch_20newsgroups(subset='all', categories=categories, remove=('headers', 'footers', 'quotes'))\n",
        "\n",
        "# Convert text to TF-IDF features\n",
        "vectorizer = TfidfVectorizer(stop_words='english', max_features=5000)\n",
        "X = vectorizer.fit_transform(newsgroups.data)\n",
        "y = newsgroups.target\n",
        "\n",
        "# Split into training and test sets\n",
        "X_train, X_test, y_train, y_test = train_test_split(X, y, test_size=0.2, random_state=42)\n",
        "\n",
        "# Train Multinomial Naïve Bayes classifier\n",
        "nb_model = MultinomialNB()\n",
        "nb_model.fit(X_train, y_train)\n",
        "\n",
        "# Predict and evaluate\n",
        "y_pred = nb_model.predict(X_test)\n",
        "accuracy = accuracy_score(y_test, y_pred)\n",
        "print(f\"Accuracy of Multinomial Naïve Bayes on 20 Newsgroups: {accuracy:.2f}\")"
      ],
      "metadata": {
        "colab": {
          "base_uri": "https://localhost:8080/"
        },
        "id": "ClDyhnOLTSvr",
        "outputId": "9b6c4998-5179-4e77-810d-d93e6dc0de63"
      },
      "execution_count": 22,
      "outputs": [
        {
          "output_type": "stream",
          "name": "stdout",
          "text": [
            "Accuracy of Multinomial Naïve Bayes on 20 Newsgroups: 0.89\n"
          ]
        }
      ]
    },
    {
      "cell_type": "code",
      "source": [
        "# 27. Write a Python program to train an SVM Classifier with different C values and compare the decision boundaries visually.\n",
        "\n",
        "from sklearn import datasets\n",
        "from sklearn.preprocessing import StandardScaler\n",
        "\n",
        "# Load synthetic 2D classification dataset\n",
        "X, y = datasets.make_classification(n_features=2, n_redundant=0, n_informative=2,\n",
        "                                     n_clusters_per_class=1, n_samples=100, random_state=42)\n",
        "\n",
        "# Standardize features\n",
        "scaler = StandardScaler()\n",
        "X_scaled = scaler.fit_transform(X)\n",
        "\n",
        "# Define C values to test\n",
        "C_values = [0.01, 0.1, 1, 10, 100]\n",
        "\n",
        "# Set up plot\n",
        "sns.set(style=\"whitegrid\")\n",
        "fig, axes = plt.subplots(1, len(C_values), figsize=(20, 4))\n",
        "\n",
        "# Create mesh for decision boundary visualization\n",
        "x_min, x_max = X_scaled[:, 0].min() - 1, X_scaled[:, 0].max() + 1\n",
        "y_min, y_max = X_scaled[:, 1].min() - 1, X_scaled[:, 1].max() + 1\n",
        "xx, yy = np.meshgrid(np.linspace(x_min, x_max, 500), np.linspace(y_min, y_max, 500))\n",
        "\n",
        "for i, C in enumerate(C_values):\n",
        "    clf = SVC(C=C, kernel='linear')\n",
        "    clf.fit(X_scaled, y)\n",
        "    Z = clf.predict(np.c_[xx.ravel(), yy.ravel()])\n",
        "    Z = Z.reshape(xx.shape)\n",
        "\n",
        "    ax = axes[i]\n",
        "    ax.contourf(xx, yy, Z, alpha=0.3, cmap='viridis')\n",
        "    ax.scatter(X_scaled[:, 0], X_scaled[:, 1], c=y, cmap='viridis', edgecolors='k')\n",
        "    ax.set_title(f\"C = {C}\")\n",
        "    ax.set_xlim(xx.min(), xx.max())\n",
        "    ax.set_ylim(yy.min(), yy.max())\n",
        "    ax.set_xlabel(\"Feature 1\")\n",
        "    ax.set_ylabel(\"Feature 2\")\n",
        "\n",
        "plt.tight_layout()\n",
        "plt.savefig(\"svm_decision_boundaries.png\")\n",
        "plt.show()"
      ],
      "metadata": {
        "colab": {
          "base_uri": "https://localhost:8080/",
          "height": 306
        },
        "id": "tUc_Lj5-TYaa",
        "outputId": "e327ec67-c822-4b7a-eb0d-5620e8902450"
      },
      "execution_count": 25,
      "outputs": [
        {
          "output_type": "display_data",
          "data": {
            "text/plain": [
              "<Figure size 2000x400 with 5 Axes>"
            ],
            "image/png": "[encoded data removed]"
          },
          "metadata": {}
        }
      ]
    },
    {
      "cell_type": "code",
      "source": [
        "# 28. Write a Python program to train a Bernoulli Naïve Bayes classifier for binary classification on a dataset with binary features\n",
        "from sklearn.naive_bayes import BernoulliNB\n",
        "from sklearn.datasets import make_classification\n",
        "\n",
        "# Step 1: Generate synthetic binary feature dataset\n",
        "X, y = make_classification(n_samples=1000, n_features=20, n_informative=10,\n",
        "                           n_redundant=0, n_classes=2, random_state=42)\n",
        "\n",
        "# Step 2: Binarize features (convert to 0/1)\n",
        "X_binary = (X > 0).astype(int)\n",
        "\n",
        "# Step 3: Train-test split\n",
        "X_train, X_test, y_train, y_test = train_test_split(X_binary, y, test_size=0.3, random_state=42)\n",
        "\n",
        "# Step 4: Train Bernoulli Naïve Bayes classifier\n",
        "bnb = BernoulliNB()\n",
        "bnb.fit(X_train, y_train)\n",
        "\n",
        "# Step 5: Predict and evaluate\n",
        "y_pred = bnb.predict(X_test)\n",
        "\n",
        "print(\"Confusion Matrix:\")\n",
        "print(confusion_matrix(y_test, y_pred))\n",
        "\n",
        "print(\"\\n Classification Report:\")\n",
        "print(classification_report(y_test, y_pred))\n",
        "\n",
        "print(f\"\\n Accuracy: {accuracy_score(y_test, y_pred):.4f}\")"
      ],
      "metadata": {
        "colab": {
          "base_uri": "https://localhost:8080/"
        },
        "id": "Dpk6HCedTg_9",
        "outputId": "0aa35759-dcee-4c7d-da73-282409dfa5b5"
      },
      "execution_count": 27,
      "outputs": [
        {
          "output_type": "stream",
          "name": "stdout",
          "text": [
            "Confusion Matrix:\n",
            "[[112  34]\n",
            " [ 46 108]]\n",
            "\n",
            " Classification Report:\n",
            "              precision    recall  f1-score   support\n",
            "\n",
            "           0       0.71      0.77      0.74       146\n",
            "           1       0.76      0.70      0.73       154\n",
            "\n",
            "    accuracy                           0.73       300\n",
            "   macro avg       0.73      0.73      0.73       300\n",
            "weighted avg       0.74      0.73      0.73       300\n",
            "\n",
            "\n",
            " Accuracy: 0.7333\n"
          ]
        }
      ]
    },
    {
      "cell_type": "code",
      "source": [
        "# 29. Write a Python program to apply feature scaling before training an SVM model and compare results with unscaled data.\n",
        "\n",
        "from sklearn.datasets import load_breast_cancer\n",
        "from sklearn.preprocessing import StandardScaler\n",
        "\n",
        "# Load dataset\n",
        "data = load_breast_cancer()\n",
        "X = data.data\n",
        "y = data.target\n",
        "\n",
        "# Train-test split\n",
        "X_train, X_test, y_train, y_test = train_test_split(X, y, test_size=0.3, random_state=42)\n",
        "\n",
        "# 1. SVM without scaling\n",
        "clf_unscaled = SVC(kernel='rbf')\n",
        "clf_unscaled.fit(X_train, y_train)\n",
        "y_pred_unscaled = clf_unscaled.predict(X_test)\n",
        "acc_unscaled = accuracy_score(y_test, y_pred_unscaled)\n",
        "\n",
        "# 2️. SVM with scaling\n",
        "scaler = StandardScaler()\n",
        "X_train_scaled = scaler.fit_transform(X_train)\n",
        "X_test_scaled = scaler.transform(X_test)\n",
        "\n",
        "clf_scaled = SVC(kernel='rbf')\n",
        "clf_scaled.fit(X_train_scaled, y_train)\n",
        "y_pred_scaled = clf_scaled.predict(X_test_scaled)\n",
        "acc_scaled = accuracy_score(y_test, y_pred_scaled)\n",
        "\n",
        "#  Print results\n",
        "print(f\"Accuracy without scaling: {acc_unscaled:.4f}\")\n",
        "print(f\"Accuracy with scaling:    {acc_scaled:.4f}\")"
      ],
      "metadata": {
        "colab": {
          "base_uri": "https://localhost:8080/"
        },
        "id": "kXAU1GvVTnfN",
        "outputId": "c9fedf23-7fd3-4db1-9a09-60619c07a2bc"
      },
      "execution_count": 31,
      "outputs": [
        {
          "output_type": "stream",
          "name": "stdout",
          "text": [
            "Accuracy without scaling: 0.9357\n",
            "Accuracy with scaling:    0.9766\n"
          ]
        }
      ]
    },
    {
      "cell_type": "code",
      "source": [
        "# 30. Write a Python program to train a Gaussian Naïve Bayes model and compare the predictions before and after Laplace Smoothing.\n",
        "from sklearn.naive_bayes import GaussianNB\n",
        "\n",
        "# Generate synthetic dataset\n",
        "np.random.seed(42)\n",
        "X = np.random.randn(1000, 5)\n",
        "y = np.random.choice([0, 1], size=1000)\n",
        "\n",
        "# Split into training and test sets\n",
        "X_train, X_test, y_train, y_test = train_test_split(X, y, test_size=0.3, random_state=42)\n",
        "\n",
        "# Train Gaussian Naive Bayes without Laplace smoothing\n",
        "model_no_smoothing = GaussianNB()\n",
        "model_no_smoothing.fit(X_train, y_train)\n",
        "y_pred_no_smoothing = model_no_smoothing.predict(X_test)\n",
        "\n",
        "# Train Gaussian Naive Bayes with Laplace smoothing (via var_smoothing)\n",
        "model_with_smoothing = GaussianNB(var_smoothing=1e-2)\n",
        "model_with_smoothing.fit(X_train, y_train)\n",
        "y_pred_with_smoothing = model_with_smoothing.predict(X_test)\n",
        "\n",
        "# Evaluate both models\n",
        "accuracy_no_smoothing = accuracy_score(y_test, y_pred_no_smoothing)\n",
        "accuracy_with_smoothing = accuracy_score(y_test, y_pred_with_smoothing)\n",
        "\n",
        "print(\"Accuracy without Laplace Smoothing:\", accuracy_no_smoothing)\n",
        "print(\"Accuracy with Laplace Smoothing:\", accuracy_with_smoothing)\n",
        "\n",
        "print(\"\\nClassification Report without Laplace Smoothing:\")\n",
        "print(classification_report(y_test, y_pred_no_smoothing))\n",
        "\n",
        "print(\"\\nClassification Report with Laplace Smoothing:\")\n",
        "print(classification_report(y_test, y_pred_with_smoothing))"
      ],
      "metadata": {
        "colab": {
          "base_uri": "https://localhost:8080/"
        },
        "id": "PBMMKAaLTwTr",
        "outputId": "a2ecfc49-2de0-4666-a2ae-7d108b90ac4a"
      },
      "execution_count": 32,
      "outputs": [
        {
          "output_type": "stream",
          "name": "stdout",
          "text": [
            "Accuracy without Laplace Smoothing: 0.49\n",
            "Accuracy with Laplace Smoothing: 0.48333333333333334\n",
            "\n",
            "Classification Report without Laplace Smoothing:\n",
            "              precision    recall  f1-score   support\n",
            "\n",
            "           0       0.50      0.38      0.43       153\n",
            "           1       0.48      0.61      0.54       147\n",
            "\n",
            "    accuracy                           0.49       300\n",
            "   macro avg       0.49      0.49      0.48       300\n",
            "weighted avg       0.49      0.49      0.48       300\n",
            "\n",
            "\n",
            "Classification Report with Laplace Smoothing:\n",
            "              precision    recall  f1-score   support\n",
            "\n",
            "           0       0.49      0.37      0.42       153\n",
            "           1       0.48      0.61      0.53       147\n",
            "\n",
            "    accuracy                           0.48       300\n",
            "   macro avg       0.48      0.49      0.48       300\n",
            "weighted avg       0.48      0.48      0.48       300\n",
            "\n"
          ]
        }
      ]
    },
    {
      "cell_type": "code",
      "source": [
        "# 31.  Write a Python program to train an SVM Classifier and use GridSearchCV to tune the hyperparameters (C, gamma, kernel)\n",
        "from sklearn.model_selection import GridSearchCV\n",
        "\n",
        "\n",
        "# Load dataset (Iris for demonstration)\n",
        "digits = datasets.load_digits()\n",
        "X = digits.data\n",
        "y = digits.target\n",
        "\n",
        "# Split into training and test sets\n",
        "X_train, X_test, y_train, y_test = train_test_split(X, y, test_size=0.3, random_state=42)\n",
        "\n",
        "# Define parameter grid for GridSearchCV\n",
        "param_grid = {\n",
        "    'C': [0.1, 1, 10, 100],\n",
        "    'gamma': [1, 0.1, 0.01, 0.001],\n",
        "    'kernel': ['linear', 'rbf']\n",
        "}\n",
        "\n",
        "# Initialize SVM classifier\n",
        "svc = SVC()\n",
        "\n",
        "# Initialize GridSearchCV\n",
        "grid_search = GridSearchCV(svc, param_grid, cv=5, verbose=1)\n",
        "\n",
        "# Fit the model\n",
        "grid_search.fit(X_train, y_train)\n",
        "\n",
        "# Predict on test data\n",
        "y_pred = grid_search.predict(X_test)\n",
        "\n",
        "# Print results\n",
        "print(\"Best Parameters:\", grid_search.best_params_)\n",
        "print(\"Best Cross-validation Score:\", grid_search.best_score_)\n",
        "print(\"Test Accuracy:\", accuracy_score(y_test, y_pred))\n",
        "print(\"Classification Report:\\n\", classification_report(y_test, y_pred))"
      ],
      "metadata": {
        "colab": {
          "base_uri": "https://localhost:8080/"
        },
        "id": "3KiyiwB4T0ss",
        "outputId": "79cda6e8-e98a-4291-dc96-87005a0ca0f2"
      },
      "execution_count": 35,
      "outputs": [
        {
          "output_type": "stream",
          "name": "stdout",
          "text": [
            "Fitting 5 folds for each of 32 candidates, totalling 160 fits\n",
            "Best Parameters: {'C': 10, 'gamma': 0.001, 'kernel': 'rbf'}\n",
            "Best Cross-validation Score: 0.9920508442420793\n",
            "Test Accuracy: 0.9907407407407407\n",
            "Classification Report:\n",
            "               precision    recall  f1-score   support\n",
            "\n",
            "           0       1.00      1.00      1.00        53\n",
            "           1       1.00      1.00      1.00        50\n",
            "           2       1.00      1.00      1.00        47\n",
            "           3       0.98      0.96      0.97        54\n",
            "           4       1.00      1.00      1.00        60\n",
            "           5       0.99      1.00      0.99        66\n",
            "           6       1.00      1.00      1.00        53\n",
            "           7       0.98      0.98      0.98        55\n",
            "           8       0.98      1.00      0.99        43\n",
            "           9       0.98      0.97      0.97        59\n",
            "\n",
            "    accuracy                           0.99       540\n",
            "   macro avg       0.99      0.99      0.99       540\n",
            "weighted avg       0.99      0.99      0.99       540\n",
            "\n"
          ]
        }
      ]
    },
    {
      "cell_type": "code",
      "source": [
        "#32. Write a Python program to train an SVM Classifier on an imbalanced dataset and apply class weighting and check it improve accuracy.\n",
        "from sklearn.datasets import make_classification\n",
        "\n",
        "# Generate an imbalanced dataset\n",
        "X, y = make_classification(n_samples=1000, n_features=20, n_informative=2,\n",
        "                           n_redundant=10, n_clusters_per_class=1,\n",
        "                           weights=[0.9, 0.1], flip_y=0, random_state=42)\n",
        "\n",
        "# Split into training and test sets\n",
        "X_train, X_test, y_train, y_test = train_test_split(X, y, test_size=0.3, random_state=42)\n",
        "\n",
        "# Train SVM without class weights\n",
        "svm_no_weights = SVC(kernel='linear', class_weight=None)\n",
        "svm_no_weights.fit(X_train, y_train)\n",
        "y_pred_no_weights = svm_no_weights.predict(X_test)\n",
        "print(\"Without Class Weights:\\n\")\n",
        "print(classification_report(y_test, y_pred_no_weights))\n",
        "\n",
        "# Train SVM with class weights\n",
        "svm_with_weights = SVC(kernel='linear', class_weight='balanced')\n",
        "svm_with_weights.fit(X_train, y_train)\n",
        "y_pred_with_weights = svm_with_weights.predict(X_test)\n",
        "print(\"With Class Weights:\\n\")\n",
        "print(classification_report(y_test, y_pred_with_weights))"
      ],
      "metadata": {
        "colab": {
          "base_uri": "https://localhost:8080/"
        },
        "id": "y9553BT1T5mf",
        "outputId": "91079b94-e24c-4c85-e3ab-ac39980bd1db"
      },
      "execution_count": 37,
      "outputs": [
        {
          "output_type": "stream",
          "name": "stdout",
          "text": [
            "Without Class Weights:\n",
            "\n",
            "              precision    recall  f1-score   support\n",
            "\n",
            "           0       0.99      1.00      0.99       276\n",
            "           1       0.95      0.83      0.89        24\n",
            "\n",
            "    accuracy                           0.98       300\n",
            "   macro avg       0.97      0.91      0.94       300\n",
            "weighted avg       0.98      0.98      0.98       300\n",
            "\n",
            "With Class Weights:\n",
            "\n",
            "              precision    recall  f1-score   support\n",
            "\n",
            "           0       0.99      0.98      0.98       276\n",
            "           1       0.80      0.83      0.82        24\n",
            "\n",
            "    accuracy                           0.97       300\n",
            "   macro avg       0.89      0.91      0.90       300\n",
            "weighted avg       0.97      0.97      0.97       300\n",
            "\n"
          ]
        }
      ]
    },
    {
      "cell_type": "code",
      "source": [
        "#33. Write a Python program to implement a Naïve Bayes classifier for spam detection using email data.\n",
        "\n",
        "from sklearn.feature_extraction.text import CountVectorizer\n",
        "from sklearn.naive_bayes import MultinomialNB, BernoulliNB, GaussianNB\n",
        "\n",
        "# Load dataset directly from GitHub\n",
        "df = pd.read_csv(\"https://raw.githubusercontent.com/dusamatej/Spam-Email-Classification-using-Naive-Bayes/main/emails.csv\")\n",
        "\n",
        "# Split data\n",
        "X_train, X_test, y_train, y_test = train_test_split(df['text'], df['label'], test_size=0.2, random_state=42)\n",
        "\n",
        "# Vectorize text\n",
        "vectorizer = CountVectorizer()\n",
        "X_train_vec = vectorizer.fit_transform(X_train)\n",
        "X_test_vec = vectorizer.transform(X_test)\n",
        "\n",
        "# Train Naïve Bayes classifier\n",
        "model = MultinomialNB() # For Discrete counts (e.g., word frequencies)\n",
        "\n",
        "model.fit(X_train_vec, y_train)\n",
        "\n",
        "# Predict and evaluate\n",
        "y_pred = model.predict(X_test_vec)\n",
        "print(\"Accuracy:\", accuracy_score(y_test, y_pred))\n",
        "print(\"Classification_report: \\n\", classification_report(y_test, y_pred))"
      ],
      "metadata": {
        "colab": {
          "base_uri": "https://localhost:8080/"
        },
        "id": "41k1cAZIT6mW",
        "outputId": "63d84996-9802-4c9f-babb-87651ca6c7f5"
      },
      "execution_count": 38,
      "outputs": [
        {
          "output_type": "stream",
          "name": "stdout",
          "text": [
            "Accuracy: 0.6666666666666666\n",
            "Classification_report: \n",
            "               precision    recall  f1-score   support\n",
            "\n",
            "           0       0.67      1.00      0.80         2\n",
            "           1       0.00      0.00      0.00         1\n",
            "\n",
            "    accuracy                           0.67         3\n",
            "   macro avg       0.33      0.50      0.40         3\n",
            "weighted avg       0.44      0.67      0.53         3\n",
            "\n"
          ]
        }
      ]
    },
    {
      "cell_type": "code",
      "source": [
        "#34. Write a Python program to train an SVM Classifier and a Naïve Bayes Classifier on the same dataset and compare their accuracy.\n",
        "from sklearn.feature_extraction.text import TfidfVectorizer\n",
        "from sklearn.naive_bayes import MultinomialNB, BernoulliNB, GaussianNB\n",
        "\n",
        "# Load dataset directly from GitHub\n",
        "df = pd.read_csv(\"https://raw.githubusercontent.com/dusamatej/Spam-Email-Classification-using-Naive-Bayes/main/emails.csv\")\n",
        "\n",
        "X,y = df['text'], df['label']\n",
        "\n",
        "# Vectorize text\n",
        "vectorizer = TfidfVectorizer(stop_words='english', max_features=5000)\n",
        "X_vec = vectorizer.fit_transform(X)\n",
        "\n",
        "# Split data\n",
        "X_train, X_test, y_train, y_test = train_test_split(X_vec, y, test_size=0.2, random_state=42)\n",
        "\n",
        "# Train SVC\n",
        "svcmodel = SVC(kernel='linear')\n",
        "svcmodel.fit(X_train, y_train)\n",
        "y_pred_svc = svcmodel.predict(X_test)\n",
        "acc_svc = accuracy_score(y_test, y_pred_svc)\n",
        "\n",
        "# Train Naïve Bayes classifier\n",
        "model = MultinomialNB() # For Discrete counts (e.g., word frequencies)\n",
        "model.fit(X_train, y_train)\n",
        "\n",
        "# Predict and evaluate\n",
        "y_pred = model.predict(X_test)\n",
        "acc_NB = accuracy_score(y_test, y_pred)\n",
        "#Evaluation Metrics\n",
        "\n",
        "print(\"Accuracy for SVM Classifier(linear kernel):\", acc_svc)\n",
        "print(\"Accuracy for Naive Bayes Classifier:\", acc_NB)\n",
        "\n",
        "print(\"Classification_report: \\n\", classification_report(y_test, y_pred_svc))\n",
        "print(\"Classification_report: \\n\", classification_report(y_test, y_pred))"
      ],
      "metadata": {
        "colab": {
          "base_uri": "https://localhost:8080/"
        },
        "id": "I6mUfjJrT6y6",
        "outputId": "77e4b1b9-d8d0-465b-8fa4-8fe90af28361"
      },
      "execution_count": 52,
      "outputs": [
        {
          "output_type": "stream",
          "name": "stdout",
          "text": [
            "Accuracy for SVM Classifier(linear kernel): 0.3333333333333333\n",
            "Accuracy for Naive Bayes Classifier: 0.3333333333333333\n",
            "Classification_report: \n",
            "               precision    recall  f1-score   support\n",
            "\n",
            "           0       0.00      0.00      0.00         2\n",
            "           1       0.33      1.00      0.50         1\n",
            "\n",
            "    accuracy                           0.33         3\n",
            "   macro avg       0.17      0.50      0.25         3\n",
            "weighted avg       0.11      0.33      0.17         3\n",
            "\n",
            "Classification_report: \n",
            "               precision    recall  f1-score   support\n",
            "\n",
            "           0       0.00      0.00      0.00         2\n",
            "           1       0.33      1.00      0.50         1\n",
            "\n",
            "    accuracy                           0.33         3\n",
            "   macro avg       0.17      0.50      0.25         3\n",
            "weighted avg       0.11      0.33      0.17         3\n",
            "\n"
          ]
        }
      ]
    },
    {
      "cell_type": "code",
      "source": [
        "from sklearn.datasets import fetch_20newsgroups\n",
        "from sklearn.feature_extraction.text import TfidfVectorizer\n",
        "from sklearn.feature_selection import SelectKBest, chi2\n",
        "from sklearn.naive_bayes import MultinomialNB\n",
        "\n",
        "# Step 1: Load binary subset of 20 Newsgroups\n",
        "categories = ['sci.space', 'rec.sport.hockey']\n",
        "data = fetch_20newsgroups(subset='all', categories=categories, remove=('headers', 'footers', 'quotes'))\n",
        "\n",
        "X_raw = data.data\n",
        "y = data.target  # 0 = sci.space, 1 = rec.sport.hockey\n",
        "\n",
        "# Step 2: TF-IDF Vectorization\n",
        "vectorizer = TfidfVectorizer(stop_words='english', max_features=5000)\n",
        "X = vectorizer.fit_transform(X_raw)\n",
        "\n",
        "# Step 3: Train-Test Split\n",
        "X_train, X_test, y_train, y_test = train_test_split(X, y, test_size=0.25, random_state=42)\n",
        "\n",
        "# Step 4: Naïve Bayes WITHOUT feature selection\n",
        "nb_full = MultinomialNB()\n",
        "nb_full.fit(X_train, y_train)\n",
        "pred_full = nb_full.predict(X_test)\n",
        "acc_full = accuracy_score(y_test, pred_full)\n",
        "\n",
        "# Step 5: Feature Selection (Chi-Squared)\n",
        "selector = SelectKBest(chi2, k=1000)\n",
        "X_train_sel = selector.fit_transform(X_train, y_train)\n",
        "X_test_sel = selector.transform(X_test)\n",
        "\n",
        "# Step 6: Naïve Bayes WITH feature selection\n",
        "nb_sel = MultinomialNB()\n",
        "nb_sel.fit(X_train_sel, y_train)\n",
        "pred_sel = nb_sel.predict(X_test_sel)\n",
        "acc_sel = accuracy_score(y_test, pred_sel)\n",
        "\n",
        "# Step 7: Compare Results\n",
        "print(f\"Accuracy without feature selection: {acc_full:.4f}\")\n",
        "print(f\"Accuracy with feature selection (top 1000): {acc_sel:.4f}\")"
      ],
      "metadata": {
        "colab": {
          "base_uri": "https://localhost:8080/"
        },
        "id": "1gz1IQ27T69U",
        "outputId": "52cae1ce-0bb4-4c2f-e636-24accc1b8ed8"
      },
      "execution_count": 61,
      "outputs": [
        {
          "output_type": "stream",
          "name": "stdout",
          "text": [
            "Accuracy without feature selection: 0.9537\n",
            "Accuracy with feature selection (top 1000): 0.9477\n"
          ]
        }
      ]
    },
    {
      "cell_type": "code",
      "source": [
        "# 36. Write a Python program to train an SVM Classifier using One-vs-Rest (OvR) and One-vs-One (OvO) strategies on the Wine dataset and compare their accuracy.\n",
        "from sklearn.datasets import load_wine\n",
        "from sklearn.preprocessing import StandardScaler\n",
        "from sklearn.multiclass import OneVsRestClassifier, OneVsOneClassifier\n",
        "\n",
        "# Step 1: Load Wine dataset\n",
        "data = load_wine()\n",
        "X = data.data\n",
        "y = data.target  # 3 classes: 0, 1, 2\n",
        "\n",
        "# Step 2: Train-Test Split\n",
        "X_train, X_test, y_train, y_test = train_test_split(X, y, test_size=0.2, random_state=42)\n",
        "\n",
        "# Step 3: Feature Scaling\n",
        "scaler = StandardScaler()\n",
        "X_train = scaler.fit_transform(X_train)\n",
        "X_test = scaler.transform(X_test)\n",
        "\n",
        "# Step 4: Train SVM with One-vs-Rest (OvR)\n",
        "svm_ovr = OneVsRestClassifier(SVC(kernel='linear'))\n",
        "svm_ovr.fit(X_train, y_train)\n",
        "pred_ovr = svm_ovr.predict(X_test)\n",
        "acc_ovr = accuracy_score(y_test, pred_ovr)\n",
        "\n",
        "# Step 5: Train SVM with One-vs-One (OvO)\n",
        "svm_ovo = OneVsOneClassifier(SVC(kernel='linear'))\n",
        "svm_ovo.fit(X_train, y_train)\n",
        "pred_ovo = svm_ovo.predict(X_test)\n",
        "acc_ovo = accuracy_score(y_test, pred_ovo)\n",
        "\n",
        "# Step 6: Compare Results\n",
        "print(f\"Accuracy using One-vs-Rest (OvR): {acc_ovr:.4f}\")\n",
        "print(f\"Accuracy using One-vs-One (OvO): {acc_ovo:.4f}\")"
      ],
      "metadata": {
        "colab": {
          "base_uri": "https://localhost:8080/"
        },
        "id": "dj_GPXa4T7G8",
        "outputId": "20af9f50-4d92-4319-a07a-ea4d3bac7415"
      },
      "execution_count": 62,
      "outputs": [
        {
          "output_type": "stream",
          "name": "stdout",
          "text": [
            "Accuracy using One-vs-Rest (OvR): 1.0000\n",
            "Accuracy using One-vs-One (OvO): 0.9722\n"
          ]
        }
      ]
    },
    {
      "cell_type": "code",
      "source": [
        "# 37. Write a Python program to train an SVM Classifier using Linear, Polynomial, and RBF kernels on the Breast Cancer dataset and compare their accuracy.\n",
        "\n",
        "from sklearn.datasets import load_breast_cancer\n",
        "from sklearn.preprocessing import StandardScaler\n",
        "\n",
        "# Step 1: Load Breast Cancer dataset\n",
        "data = load_breast_cancer()\n",
        "X = data.data\n",
        "y = data.target  # 0 = malignant, 1 = benign\n",
        "\n",
        "# Step 2: Train-Test Split\n",
        "X_train, X_test, y_train, y_test = train_test_split(X, y, test_size=0.2, random_state=42)\n",
        "\n",
        "# Step 3: Feature Scaling\n",
        "scaler = StandardScaler()\n",
        "X_train = scaler.fit_transform(X_train)\n",
        "X_test = scaler.transform(X_test)\n",
        "\n",
        "# Step 4: Train SVM with Linear Kernel\n",
        "svm_linear = SVC(kernel='linear')\n",
        "svm_linear.fit(X_train, y_train)\n",
        "pred_linear = svm_linear.predict(X_test)\n",
        "acc_linear = accuracy_score(y_test, pred_linear)\n",
        "\n",
        "# Step 5: Train SVM with Polynomial Kernel\n",
        "svm_poly = SVC(kernel='poly', degree=3)\n",
        "svm_poly.fit(X_train, y_train)\n",
        "pred_poly = svm_poly.predict(X_test)\n",
        "acc_poly = accuracy_score(y_test, pred_poly)\n",
        "\n",
        "# Step 6: Train SVM with RBF Kernel\n",
        "svm_rbf = SVC(kernel='rbf')\n",
        "svm_rbf.fit(X_train, y_train)\n",
        "pred_rbf = svm_rbf.predict(X_test)\n",
        "acc_rbf = accuracy_score(y_test, pred_rbf)\n",
        "\n",
        "# Step 7: Compare Results\n",
        "print(f\"Accuracy with Linear Kernel:     {acc_linear:.4f}\")\n",
        "print(f\"Accuracy with Polynomial Kernel: {acc_poly:.4f}\")\n",
        "print(f\"Accuracy with RBF Kernel:        {acc_rbf:.4f}\")"
      ],
      "metadata": {
        "colab": {
          "base_uri": "https://localhost:8080/"
        },
        "id": "ddBKmiuFT7Qz",
        "outputId": "91a037c3-6980-4b28-fdd3-0d49586bf2fa"
      },
      "execution_count": 63,
      "outputs": [
        {
          "output_type": "stream",
          "name": "stdout",
          "text": [
            "Accuracy with Linear Kernel:     0.9561\n",
            "Accuracy with Polynomial Kernel: 0.8684\n",
            "Accuracy with RBF Kernel:        0.9825\n"
          ]
        }
      ]
    },
    {
      "cell_type": "code",
      "source": [
        "# 38. Write a Python program to train an SVM Classifier using Stratified K-Fold Cross-Validation and compute the average accuracy.\n",
        "\n",
        "from sklearn.datasets import load_breast_cancer\n",
        "from sklearn.model_selection import StratifiedKFold\n",
        "from sklearn.preprocessing import StandardScaler\n",
        "\n",
        "# Step 1: Load Breast Cancer dataset\n",
        "data = load_breast_cancer()\n",
        "X = data.data\n",
        "y = data.target\n",
        "\n",
        "# Step 2: Initialize Stratified K-Fold\n",
        "skf = StratifiedKFold(n_splits=5, shuffle=True, random_state=42)\n",
        "\n",
        "# Step 3: Track accuracy across folds\n",
        "accuracies = []\n",
        "\n",
        "for train_index, test_index in skf.split(X, y):\n",
        "    # Split data\n",
        "    X_train, X_test = X[train_index], X[test_index]\n",
        "    y_train, y_test = y[train_index], y[test_index]\n",
        "\n",
        "    # Scale features\n",
        "    scaler = StandardScaler()\n",
        "    X_train = scaler.fit_transform(X_train)\n",
        "    X_test = scaler.transform(X_test)\n",
        "\n",
        "    # Train SVM\n",
        "    model = SVC(kernel='linear')\n",
        "    model.fit(X_train, y_train)\n",
        "    preds = model.predict(X_test)\n",
        "\n",
        "    # Compute accuracy\n",
        "    acc = accuracy_score(y_test, preds)\n",
        "    accuracies.append(acc)\n",
        "\n",
        "# Step 4: Report results\n",
        "print(\"Fold Accuracies:\", [f\"{a:.4f}\" for a in accuracies])\n",
        "print(f\"Average Accuracy: {np.mean(accuracies):.4f}\")"
      ],
      "metadata": {
        "colab": {
          "base_uri": "https://localhost:8080/"
        },
        "id": "P7iradNnT7aG",
        "outputId": "76bef252-3c8d-4271-8ba2-4e233d542008"
      },
      "execution_count": 64,
      "outputs": [
        {
          "output_type": "stream",
          "name": "stdout",
          "text": [
            "Fold Accuracies: ['0.9912', '0.9386', '0.9561', '0.9912', '0.9912']\n",
            "Average Accuracy: 0.9737\n"
          ]
        }
      ]
    },
    {
      "cell_type": "code",
      "source": [
        "# 39. Write a Python program to train a Naïve Bayes classifier using different prior probabilities and compare performance.\n",
        "\n",
        "from sklearn.datasets import load_wine\n",
        "from sklearn.model_selection import train_test_split\n",
        "from sklearn.preprocessing import StandardScaler\n",
        "from sklearn.naive_bayes import GaussianNB\n",
        "from sklearn.metrics import accuracy_score\n",
        "\n",
        "# Step 1: Load Wine dataset\n",
        "data = load_wine()\n",
        "X = data.data\n",
        "y = data.target  # Classes: 0, 1, 2\n",
        "\n",
        "# Step 2: Train-Test Split\n",
        "X_train, X_test, y_train, y_test = train_test_split(X, y, test_size=0.3, random_state=42)\n",
        "\n",
        "# Step 3: Feature Scaling\n",
        "scaler = StandardScaler()\n",
        "X_train = scaler.fit_transform(X_train)\n",
        "X_test = scaler.transform(X_test)\n",
        "\n",
        "# Step 4: Train Naïve Bayes with default priors\n",
        "nb_default = GaussianNB()\n",
        "nb_default.fit(X_train, y_train)\n",
        "pred_default = nb_default.predict(X_test)\n",
        "acc_default = accuracy_score(y_test, pred_default)\n",
        "\n",
        "# Step 5: Train Naïve Bayes with custom priors\n",
        "custom_priors = [0.2, 0.5, 0.3]  # Must sum to 1\n",
        "nb_custom = GaussianNB(priors=custom_priors)\n",
        "nb_custom.fit(X_train, y_train)\n",
        "pred_custom = nb_custom.predict(X_test)\n",
        "acc_custom = accuracy_score(y_test, pred_custom)\n",
        "\n",
        "# Step 6: Compare Results\n",
        "print(f\"Accuracy with default priors: {acc_default:.4f}\")\n",
        "print(f\"Accuracy with custom priors {custom_priors}: {acc_custom:.4f}\")\n",
        "print(\"\\nGaussianNB uses class priors to compute posterior probabilities via Bayes’ theorem.\")\n",
        "print(\"\\nIf the dataset is balanced, changing priors may not affect accuracy.\")\n",
        "print(\"\\nOn imbalanced data, custom priors can shift decision boundaries.\")\n"
      ],
      "metadata": {
        "colab": {
          "base_uri": "https://localhost:8080/"
        },
        "id": "530KwrCrT7jU",
        "outputId": "0a6cddb3-3683-470b-f627-629aeba16ad6"
      },
      "execution_count": 67,
      "outputs": [
        {
          "output_type": "stream",
          "name": "stdout",
          "text": [
            "Accuracy with default priors: 1.0000\n",
            "Accuracy with custom priors [0.2, 0.5, 0.3]: 1.0000\n",
            "\n",
            "GaussianNB uses class priors to compute posterior probabilities via Bayes’ theorem.\n",
            "\n",
            "If the dataset is balanced, changing priors may not affect accuracy.\n",
            "\n",
            "On imbalanced data, custom priors can shift decision boundaries.\n"
          ]
        }
      ]
    },
    {
      "cell_type": "code",
      "source": [
        "# 40. Write a Python program to perform Recursive Feature Elimination (RFE) before training an SVM Classifier and compare accuracy.\n",
        "from sklearn.datasets import load_breast_cancer\n",
        "from sklearn.model_selection import train_test_split\n",
        "from sklearn.preprocessing import StandardScaler\n",
        "from sklearn.svm import SVC\n",
        "from sklearn.feature_selection import RFE\n",
        "from sklearn.metrics import accuracy_score\n",
        "\n",
        "# Step 1: Load dataset\n",
        "data = load_breast_cancer()\n",
        "X = data.data\n",
        "y = data.target\n",
        "\n",
        "# Step 2: Train-Test Split\n",
        "X_train, X_test, y_train, y_test = train_test_split(X, y, test_size=0.3, random_state=42)\n",
        "\n",
        "# Step 3: Feature Scaling\n",
        "scaler = StandardScaler()\n",
        "X_train_scaled = scaler.fit_transform(X_train)\n",
        "X_test_scaled = scaler.transform(X_test)\n",
        "\n",
        "# Step 4: Train SVM without RFE\n",
        "svm_full = SVC(kernel='linear', random_state=42)\n",
        "svm_full.fit(X_train_scaled, y_train)\n",
        "pred_full = svm_full.predict(X_test_scaled)\n",
        "acc_full = accuracy_score(y_test, pred_full)\n",
        "\n",
        "# Step 5: Apply RFE with SVM as estimator\n",
        "rfe = RFE(estimator=SVC(kernel='linear'), n_features_to_select=10)\n",
        "rfe.fit(X_train_scaled, y_train)\n",
        "\n",
        "# Step 6: Train SVM on selected features\n",
        "X_train_rfe = rfe.transform(X_train_scaled)\n",
        "X_test_rfe = rfe.transform(X_test_scaled)\n",
        "\n",
        "svm_rfe = SVC(kernel='linear', random_state=42)\n",
        "svm_rfe.fit(X_train_rfe, y_train)\n",
        "pred_rfe = svm_rfe.predict(X_test_rfe)\n",
        "acc_rfe = accuracy_score(y_test, pred_rfe)\n",
        "\n",
        "# Step 7: Compare Results\n",
        "print(f\"Accuracy with all features: {acc_full:.4f}\")\n",
        "print(f\"Accuracy with RFE-selected features (10): {acc_rfe:.4f}\")"
      ],
      "metadata": {
        "colab": {
          "base_uri": "https://localhost:8080/"
        },
        "id": "jN6kikarT7r-",
        "outputId": "8b5f6a55-a0d7-4dcc-c7c0-fb898714f3de"
      },
      "execution_count": 69,
      "outputs": [
        {
          "output_type": "stream",
          "name": "stdout",
          "text": [
            "Accuracy with all features: 0.9766\n",
            "Accuracy with RFE-selected features (10): 0.9649\n"
          ]
        }
      ]
    },
    {
      "cell_type": "code",
      "source": [
        "# 41. Write a Python program to train an SVM Classifier and evaluate its performance using Precision, Recall, and F1-Score instead of accuracy.\n",
        "\n",
        "from sklearn.datasets import load_breast_cancer\n",
        "from sklearn.model_selection import train_test_split\n",
        "from sklearn.preprocessing import StandardScaler\n",
        "from sklearn.svm import SVC\n",
        "from sklearn.metrics import precision_score, recall_score, f1_score, classification_report\n",
        "\n",
        "# Step 1: Load dataset\n",
        "data = load_breast_cancer()\n",
        "X = data.data\n",
        "y = data.target\n",
        "\n",
        "# Step 2: Train-Test Split\n",
        "X_train, X_test, y_train, y_test = train_test_split(X, y, test_size=0.3, random_state=42)\n",
        "\n",
        "# Step 3: Feature Scaling\n",
        "scaler = StandardScaler()\n",
        "X_train_scaled = scaler.fit_transform(X_train)\n",
        "X_test_scaled = scaler.transform(X_test)\n",
        "\n",
        "# Step 4: Train SVM Classifier\n",
        "svm = SVC(kernel='linear', random_state=42)\n",
        "svm.fit(X_train_scaled, y_train)\n",
        "y_pred = svm.predict(X_test_scaled)\n",
        "\n",
        "# Step 5: Evaluate using Precision, Recall, F1\n",
        "precision = precision_score(y_test, y_pred)\n",
        "recall = recall_score(y_test, y_pred)\n",
        "f1 = f1_score(y_test, y_pred)\n",
        "\n",
        "# Step 6: Display Results\n",
        "print(f\"Precision: {precision:.4f}\")\n",
        "print(f\"Recall:    {recall:.4f}\")\n",
        "print(f\"F1-Score:  {f1:.4f}\")\n",
        "\n",
        "# Optional: Full classification report\n",
        "print(\"\\nClassification Report:\")\n",
        "print(classification_report(y_test, y_pred, target_names=data.target_names))"
      ],
      "metadata": {
        "colab": {
          "base_uri": "https://localhost:8080/"
        },
        "id": "RyUQs_XOT71d",
        "outputId": "ca442ef6-8b89-49d7-bcd9-dc83148e8731"
      },
      "execution_count": 72,
      "outputs": [
        {
          "output_type": "stream",
          "name": "stdout",
          "text": [
            "Precision: 0.9815\n",
            "Recall:    0.9815\n",
            "F1-Score:  0.9815\n",
            "\n",
            "Classification Report:\n",
            "              precision    recall  f1-score   support\n",
            "\n",
            "   malignant       0.97      0.97      0.97        63\n",
            "      benign       0.98      0.98      0.98       108\n",
            "\n",
            "    accuracy                           0.98       171\n",
            "   macro avg       0.97      0.97      0.97       171\n",
            "weighted avg       0.98      0.98      0.98       171\n",
            "\n"
          ]
        }
      ]
    },
    {
      "cell_type": "code",
      "source": [
        "# 42. Write a Python program to train a Naïve Bayes Classifier and evaluate its performance using Log Loss (Cross-Entropy Loss)\n",
        "\n",
        "from sklearn.datasets import load_breast_cancer\n",
        "from sklearn.model_selection import train_test_split\n",
        "from sklearn.preprocessing import StandardScaler\n",
        "from sklearn.naive_bayes import GaussianNB\n",
        "from sklearn.metrics import log_loss\n",
        "\n",
        "# Step 1: Load dataset\n",
        "data = load_breast_cancer()\n",
        "X = data.data\n",
        "y = data.target\n",
        "\n",
        "# Step 2: Train-Test Split\n",
        "X_train, X_test, y_train, y_test = train_test_split(X, y, test_size=0.3, random_state=42)\n",
        "\n",
        "# Step 3: Feature Scaling\n",
        "scaler = StandardScaler()\n",
        "X_train_scaled = scaler.fit_transform(X_train)\n",
        "X_test_scaled = scaler.transform(X_test)\n",
        "\n",
        "# Step 4: Train Naïve Bayes Classifier\n",
        "nb = GaussianNB()\n",
        "nb.fit(X_train_scaled, y_train)\n",
        "\n",
        "# Step 5: Predict Probabilities\n",
        "y_proba = nb.predict_proba(X_test_scaled)\n",
        "\n",
        "# Step 6: Evaluate using Log Loss\n",
        "loss = log_loss(y_test, y_proba)\n",
        "\n",
        "# Step 7: Display Result\n",
        "print(f\"Log Loss (Cross-Entropy): {loss:.4f}\")\n",
        "\n",
        "# Notes:\n",
        "# - Log Loss penalizes confident wrong predictions more than uncertain ones.\n",
        "# - Lower log loss = better calibrated probabilities.\n",
        "# - predict_proba() is essential — it returns class probabilities, not labels.\n"
      ],
      "metadata": {
        "colab": {
          "base_uri": "https://localhost:8080/"
        },
        "id": "QEFrZeBjT7-F",
        "outputId": "366539db-2a5e-433c-9673-cd7ddab2a60b"
      },
      "execution_count": 77,
      "outputs": [
        {
          "output_type": "stream",
          "name": "stdout",
          "text": [
            "Log Loss (Cross-Entropy): 0.4545\n"
          ]
        }
      ]
    },
    {
      "cell_type": "code",
      "source": [
        "# 43. Write a Python program to train an SVM Classifier and visualize the Confusion Matrix using seaborn.\n",
        "import seaborn as sns\n",
        "import matplotlib.pyplot as plt\n",
        "from sklearn.datasets import load_breast_cancer\n",
        "from sklearn.model_selection import train_test_split\n",
        "from sklearn.preprocessing import StandardScaler\n",
        "from sklearn.svm import SVC\n",
        "from sklearn.metrics import confusion_matrix, ConfusionMatrixDisplay\n",
        "\n",
        "# Step 1: Load dataset\n",
        "data = load_breast_cancer()\n",
        "X = data.data\n",
        "y = data.target\n",
        "class_names = data.target_names  # ['malignant', 'benign']\n",
        "\n",
        "# Step 2: Train-Test Split\n",
        "X_train, X_test, y_train, y_test = train_test_split(X, y, test_size=0.3, random_state=42)\n",
        "\n",
        "# Step 3: Feature Scaling\n",
        "scaler = StandardScaler()\n",
        "X_train_scaled = scaler.fit_transform(X_train)\n",
        "X_test_scaled = scaler.transform(X_test)\n",
        "\n",
        "# Step 4: Train SVM Classifier\n",
        "svm = SVC(kernel='linear', random_state=42)\n",
        "svm.fit(X_train_scaled, y_train)\n",
        "y_pred = svm.predict(X_test_scaled)\n",
        "\n",
        "# Step 5: Compute Confusion Matrix\n",
        "cm = confusion_matrix(y_test, y_pred)\n",
        "\n",
        "# Step 6: Visualize using seaborn\n",
        "plt.figure(figsize=(6, 5))\n",
        "sns.heatmap(cm, annot=True, fmt='d', cmap='Blues',\n",
        "            xticklabels=class_names, yticklabels=class_names)\n",
        "plt.title(\"Confusion Matrix - SVM Classifier\")\n",
        "plt.xlabel(\"Predicted Label\")\n",
        "plt.ylabel(\"True Label\")\n",
        "plt.tight_layout()\n",
        "plt.show()"
      ],
      "metadata": {
        "colab": {
          "base_uri": "https://localhost:8080/",
          "height": 501
        },
        "id": "updNFfHvT8G0",
        "outputId": "a11ad28d-d429-480a-f836-24a9445d6279"
      },
      "execution_count": 78,
      "outputs": [
        {
          "output_type": "display_data",
          "data": {
            "text/plain": [
              "<Figure size 600x500 with 2 Axes>"
            ],
            "image/png": "[encoded data removed]"
          },
          "metadata": {}
        }
      ]
    },
    {
      "cell_type": "code",
      "source": [
        "# 44. Write a Python program to train an SVM Regressor (SVR) and evaluate its performance using Mean Absolute Error (MAE) instead of MSE.\n",
        "from sklearn.datasets import fetch_california_housing\n",
        "from sklearn.model_selection import train_test_split\n",
        "from sklearn.preprocessing import StandardScaler\n",
        "from sklearn.svm import SVR\n",
        "from sklearn.metrics import mean_absolute_error\n",
        "\n",
        "# Step 1: Load dataset\n",
        "data = fetch_california_housing()\n",
        "X = data.data\n",
        "y = data.target\n",
        "\n",
        "# Step 2: Train-Test Split\n",
        "X_train, X_test, y_train, y_test = train_test_split(X, y, test_size=0.3, random_state=42)\n",
        "\n",
        "# Step 3: Feature Scaling\n",
        "scaler_X = StandardScaler()\n",
        "scaler_y = StandardScaler()\n",
        "\n",
        "X_train_scaled = scaler_X.fit_transform(X_train)\n",
        "X_test_scaled = scaler_X.transform(X_test)\n",
        "\n",
        "# Optional: Scale target for SVR performance\n",
        "y_train_scaled = scaler_y.fit_transform(y_train.reshape(-1, 1)).ravel()\n",
        "y_test_scaled = scaler_y.transform(y_test.reshape(-1, 1)).ravel()\n",
        "\n",
        "# Step 4: Train SVR\n",
        "svr = SVR(kernel='rbf', C=10, epsilon=0.1)\n",
        "svr.fit(X_train_scaled, y_train_scaled)\n",
        "\n",
        "# Step 5: Predict and inverse scale\n",
        "y_pred_scaled = svr.predict(X_test_scaled)\n",
        "y_pred = scaler_y.inverse_transform(y_pred_scaled.reshape(-1, 1)).ravel()\n",
        "\n",
        "# Step 6: Evaluate using MAE\n",
        "mae = mean_absolute_error(y_test, y_pred)\n",
        "\n",
        "# Step 7: Display Result\n",
        "print(f\"Mean Absolute Error (MAE): {mae:.4f}\")"
      ],
      "metadata": {
        "colab": {
          "base_uri": "https://localhost:8080/"
        },
        "id": "y8dF5jz_T8P_",
        "outputId": "855387c6-816d-48a9-8557-7dd4aa5f1434"
      },
      "execution_count": 80,
      "outputs": [
        {
          "output_type": "stream",
          "name": "stdout",
          "text": [
            "Mean Absolute Error (MAE): 0.3770\n"
          ]
        }
      ]
    },
    {
      "cell_type": "code",
      "source": [
        "# 45. Write a Python program to train a Naïve Bayes classifier and evaluate its performance using the ROC-AUC score.\n",
        "\n",
        "from sklearn.datasets import load_breast_cancer\n",
        "from sklearn.model_selection import train_test_split\n",
        "from sklearn.preprocessing import StandardScaler\n",
        "from sklearn.naive_bayes import GaussianNB\n",
        "from sklearn.metrics import roc_auc_score\n",
        "\n",
        "# Step 1: Load dataset\n",
        "data = load_breast_cancer()\n",
        "X = data.data\n",
        "y = data.target\n",
        "\n",
        "# Step 2: Train-Test Split\n",
        "X_train, X_test, y_train, y_test = train_test_split(X, y, test_size=0.3, random_state=42)\n",
        "\n",
        "# Step 3: Feature Scaling\n",
        "scaler = StandardScaler()\n",
        "X_train_scaled = scaler.fit_transform(X_train)\n",
        "X_test_scaled = scaler.transform(X_test)\n",
        "\n",
        "# Step 4: Train Naïve Bayes Classifier\n",
        "nb = GaussianNB()\n",
        "nb.fit(X_train_scaled, y_train)\n",
        "\n",
        "# Step 5: Predict Probabilities for ROC-AUC\n",
        "y_proba = nb.predict_proba(X_test_scaled)[:, 1]  # Probability of class 1\n",
        "\n",
        "# Step 6: Evaluate using ROC-AUC\n",
        "roc_auc = roc_auc_score(y_test, y_proba)\n",
        "\n",
        "# Step 7: Display Result\n",
        "print(f\"ROC-AUC Score: {roc_auc:.4f}\")"
      ],
      "metadata": {
        "colab": {
          "base_uri": "https://localhost:8080/"
        },
        "id": "Ag5XxpRzT8Yl",
        "outputId": "8a534693-cf06-476f-eccb-a72c01139745"
      },
      "execution_count": 81,
      "outputs": [
        {
          "output_type": "stream",
          "name": "stdout",
          "text": [
            "ROC-AUC Score: 0.9927\n"
          ]
        }
      ]
    },
    {
      "cell_type": "code",
      "source": [
        "from enum import auto\n",
        "# 46. Write a Python program to train an SVM Classifier and visualize the Precision-Recall Curve.\n",
        "import matplotlib.pyplot as plt\n",
        "import pandas as pd\n",
        "from sklearn.datasets import fetch_openml\n",
        "from sklearn.model_selection import train_test_split\n",
        "from sklearn.preprocessing import StandardScaler\n",
        "from sklearn.svm import SVC\n",
        "from sklearn.metrics import precision_recall_curve, average_precision_score\n",
        "\n",
        "# Step 1: Load Heart Disease dataset from OpenML\n",
        "heart = fetch_openml(name='heart', version=1, as_frame=False)\n",
        "X = heart.data\n",
        "y = heart.target.astype(int)  # Convert target to integer (0 or 1)\n",
        "\n",
        "# Step 2: Train-Test Split\n",
        "X_train, X_test, y_train, y_test = train_test_split(X, y, test_size=0.3, random_state=42)\n",
        "\n",
        "# Step 3: Feature Scaling\n",
        "scaler = StandardScaler(with_mean=False)\n",
        "X_train_scaled = scaler.fit_transform(X_train)\n",
        "X_test_scaled = scaler.transform(X_test)\n",
        "\n",
        "# Step 4: Train SVM with probability estimates\n",
        "svm = SVC(kernel='rbf', probability=True, random_state=42)\n",
        "svm.fit(X_train_scaled, y_train)\n",
        "\n",
        "# Step 5: Predict probabilities\n",
        "y_scores = svm.predict_proba(X_test_scaled)[:, 1]\n",
        "\n",
        "# Step 6: Compute Precision-Recall values\n",
        "precision, recall, thresholds = precision_recall_curve(y_test, y_scores)\n",
        "avg_precision = average_precision_score(y_test, y_scores)\n",
        "\n",
        "# Step 7: Plot Precision-Recall Curve\n",
        "plt.figure(figsize=(8, 6))\n",
        "plt.plot(recall, precision, label=f'Avg Precision = {avg_precision:.4f}', color='darkred')\n",
        "plt.xlabel('Recall')\n",
        "plt.ylabel('Precision')\n",
        "plt.title('Precision-Recall Curve - SVM (Heart Disease)')\n",
        "plt.legend()\n",
        "plt.grid(True)\n",
        "plt.tight_layout()\n",
        "plt.show()\n",
        "\n",
        "# 1. Trade-off Between Precision and Recall\n",
        "# - Precision: Of all predicted positives, how many are truly positive?\n",
        "# - Recall: Of all actual positives, how many did we correctly identify?\n",
        "# - The curve shows how these metrics change as the decision threshold varies.\n",
        "# - A steep curve near the top-right indicates high precision and recall — ideal!\n",
        "\n",
        "# 2. Average Precision Score\n",
        "# - This is the area under the PR curve (similar to ROC-AUC but for PR).\n"
      ],
      "metadata": {
        "colab": {
          "base_uri": "https://localhost:8080/",
          "height": 601
        },
        "id": "9EskU9BIT8ht",
        "outputId": "8dc3a069-fe00-4051-ac8b-d95315867ae5"
      },
      "execution_count": 90,
      "outputs": [
        {
          "output_type": "display_data",
          "data": {
            "text/plain": [
              "<Figure size 800x600 with 1 Axes>"
            ],
            "image/png": "[encoded data removed]"
          },
          "metadata": {}
        }
      ]
    }
  ]
}
